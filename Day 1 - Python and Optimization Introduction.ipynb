{
 "cells": [
  {
   "cell_type": "markdown",
   "metadata": {},
   "source": [
    "# Aim of this course is to develop sound reasoning and a scientific work flow that utilize optimization\n",
    "## Knowledge centric eduction versus skill transfer centric eduction: \n",
    "## 1. Before the internet we were a knowledge constrained society e.g. everyone with a cellphone today has the same information at their fingertips than Pres Bill Clinton during his first term as President of the USA.\n",
    "## 1.1 Education from the past was primarily knowledge transfer.\n",
    "## 2. Essentially everyone today has access to information.\n",
    "## 2.1 Education of today is primarily what we can do with the knowledge i.e. skill.\n",
    "------------\n",
    "# Not a course of only me explaining but purposefully constructed so that concepts are discovered. Why is this important?\n",
    "## Stories that makes sense sticks, while arbitrary facts fade.\n",
    "## Co-develop knowledge and skill. \n",
    "## Rather cover less material in class so that you can extend independently (Skill Transfer Model) as opposed to covering lots of material in class that you can't extend yourself afterwards (Knowledge Based Wikipedia Model). \n",
    "## Initial examples are on purpose chosen to be simplistic - often the answer is known before we start - this is important as it allows us to test what we do.\n",
    "## Sometimes we do not know what the answer is - we can then first construct a simulated problem of which we know the answer.\n",
    "## Why is this necessary or unnecessary?"
   ]
  },
  {
   "cell_type": "markdown",
   "metadata": {},
   "source": [
    "This cell is a getting to know Jupyter-notebook cell - first change it to a Markdown cell before you type your reasons - make sure to share them in class."
   ]
  },
  {
   "cell_type": "markdown",
   "metadata": {},
   "source": [
    "------\n",
    "# What is Optimization?\n",
    "## Optimization solves problems, but not all problems, not yet anyway :)\n",
    "# Consider yourself tackling a problem (assuming no optimization knowledge), four outcomes are plausible:\n",
    "## 1. You don't know how to start and what to do - optimization won't help you here\n",
    "## 2. You know exactly what to do and you find a single and unique solution to the problem - optimization won't help you here either, you are busy with an analysis problem\n",
    "## 3. You know exactly what to do and find many, even an infinite number of solutions - optimization is your tool!\n",
    "## 4. You know exactly what to do and you find no solution - optimization is your tool!"
   ]
  },
  {
   "cell_type": "markdown",
   "metadata": {},
   "source": [
    "# Conceptual Highlight - Optimization is mathematical strategy to solve two types of problems:\n",
    "## I. Problems that have many solutions (often infinite)\n",
    "## II. Problems that have no solutions\n",
    "# Conceptual Analogy - Basic Linear Algebra\n",
    "## I. Analysis problems (only one solution exist e.g. solving using Gauss elimination)\n",
    "## II. Underdetermined problems (infinite number of solutions exist)\n",
    "## III. Overdetermined problems (no solution exist)\n",
    "------\n",
    "# Famous Quote: One should learn programming before statistics\n",
    "# Obvious Quote: One should learn programming before *numerical methods*\n",
    "# Fact: Optimization is an advanced numerical method\n",
    "# Hindsight Obvious Quote: One should learn programming before optimization\n",
    "------------\n",
    "# Programming? Why should I learn to program, I am not an IT Person / Programmer - I am an Engineer, Scientist or Mathematician.\n",
    "# For the same reason you are writing, although you are not Voltaire.\n",
    "# Numerical literacy is a basic skill in 2018.\n",
    "# Programming is the tool you use to become numerically literate.\n",
    "----------\n",
    "# What is programming? Programming is essentially the integration, arrangement and flow of data with operations that act on the data!\n",
    "---------------------------------\n",
    "# Before we recap these three Linear Algebra analogies let's consider basic Python calculations i.e. Python is my new calculator\n",
    "# Numbers can be represented as different objects, namely integer, float and complex"
   ]
  },
  {
   "cell_type": "markdown",
   "metadata": {},
   "source": [
    "----\n",
    "## Integers: $MyIntegerCalculation = 1 + 2(3+4) + 5ˆ6$\n",
    "### Press SHIFT + ENTER to run a cell"
   ]
  },
  {
   "cell_type": "code",
   "execution_count": 43,
   "metadata": {},
   "outputs": [],
   "source": [
    "MyIntegerCalculation =  1 + 2*(3+4) + 5**6"
   ]
  },
  {
   "cell_type": "code",
   "execution_count": 44,
   "metadata": {},
   "outputs": [
    {
     "name": "stdout",
     "output_type": "stream",
     "text": [
      "15640\n"
     ]
    }
   ],
   "source": [
    "print(MyIntegerCalculation)"
   ]
  },
  {
   "cell_type": "code",
   "execution_count": 45,
   "metadata": {},
   "outputs": [
    {
     "name": "stdout",
     "output_type": "stream",
     "text": [
      "<class 'int'>\n"
     ]
    }
   ],
   "source": [
    "print(type(MyIntegerCalculation))"
   ]
  },
  {
   "cell_type": "markdown",
   "metadata": {},
   "source": [
    "## Real/Float numbers: $MyIntegerCalculation = 1.0 + 2(3+4) + 5ˆ6$"
   ]
  },
  {
   "cell_type": "code",
   "execution_count": 5,
   "metadata": {},
   "outputs": [
    {
     "name": "stdout",
     "output_type": "stream",
     "text": [
      "15640.0\n",
      "<class 'float'>\n"
     ]
    }
   ],
   "source": [
    "MyRealCalculation = 1.0+ 2*(3+4) + 5**6\n",
    "print(MyRealCalculation)\n",
    "print(type(MyRealCalculation))"
   ]
  },
  {
   "cell_type": "markdown",
   "metadata": {},
   "source": [
    "## Complex numbers: $MyComplexCalculation = 1.0 + 2(3+4) + 5ˆ6$"
   ]
  },
  {
   "cell_type": "code",
   "execution_count": 6,
   "metadata": {},
   "outputs": [
    {
     "name": "stdout",
     "output_type": "stream",
     "text": [
      "(15639+1j)\n",
      "<class 'complex'>\n"
     ]
    }
   ],
   "source": [
    "MyComplexCalculation = 1j + 2*(3+4) + 5**6\n",
    "print(MyComplexCalculation)\n",
    "print(type(MyComplexCalculation))"
   ]
  },
  {
   "cell_type": "markdown",
   "metadata": {},
   "source": [
    "# Every thing in Python is an object!\n",
    "## Object orientated programming is a fancy word for a basic concept!\n",
    "## Basic concept: Strategy to keep your data (with specific type) and functions that operate on that data type in one place\n",
    "## Compare the operations between integer and complex numbers?\n",
    "## Put a dot at the end of the object name e.g. MyComplexCalculation. and press TAB"
   ]
  },
  {
   "cell_type": "code",
   "execution_count": 8,
   "metadata": {},
   "outputs": [
    {
     "data": {
      "text/plain": [
       "15640"
      ]
     },
     "execution_count": 8,
     "metadata": {},
     "output_type": "execute_result"
    }
   ],
   "source": [
    "MyIntegerCalculation."
   ]
  },
  {
   "cell_type": "code",
   "execution_count": 25,
   "metadata": {},
   "outputs": [
    {
     "data": {
      "text/plain": [
       "(142+4j)"
      ]
     },
     "execution_count": 25,
     "metadata": {},
     "output_type": "execute_result"
    }
   ],
   "source": [
    "MyComplexCalculation."
   ]
  },
  {
   "cell_type": "markdown",
   "metadata": {},
   "source": [
    "# How can we do more operations? Modules\n",
    "## Modules are essentially objects that we can load into memory that contains lots of functions and data\n",
    "## Numerical Python Modules - numpy\n",
    "## Load the entire module into memory and give it a name mynumpy:\n",
    "### Hash is the way we comment code out i.e. what follows after the hash will be ignored"
   ]
  },
  {
   "cell_type": "code",
   "execution_count": 61,
   "metadata": {},
   "outputs": [
    {
     "name": "stdout",
     "output_type": "stream",
     "text": [
      "Help on ufunc object:\n",
      "\n",
      "fabs = class ufunc(builtins.object)\n",
      " |  Functions that operate element by element on whole arrays.\n",
      " |  \n",
      " |  To see the documentation for a specific ufunc, use np.info().  For\n",
      " |  example, np.info(np.sin).  Because ufuncs are written in C\n",
      " |  (for speed) and linked into Python with NumPy's ufunc facility,\n",
      " |  Python's help() function finds this page whenever help() is called\n",
      " |  on a ufunc.\n",
      " |  \n",
      " |  A detailed explanation of ufuncs can be found in the \"ufuncs.rst\"\n",
      " |  file in the NumPy reference guide.\n",
      " |  \n",
      " |  Unary ufuncs:\n",
      " |  =============\n",
      " |  \n",
      " |  op(X, out=None)\n",
      " |  Apply op to X elementwise\n",
      " |  \n",
      " |  Parameters\n",
      " |  ----------\n",
      " |  X : array_like\n",
      " |      Input array.\n",
      " |  out : array_like\n",
      " |      An array to store the output. Must be the same shape as `X`.\n",
      " |  \n",
      " |  Returns\n",
      " |  -------\n",
      " |  r : array_like\n",
      " |      `r` will have the same shape as `X`; if out is provided, `r`\n",
      " |      will be equal to out.\n",
      " |  \n",
      " |  Binary ufuncs:\n",
      " |  ==============\n",
      " |  \n",
      " |  op(X, Y, out=None)\n",
      " |  Apply `op` to `X` and `Y` elementwise. May \"broadcast\" to make\n",
      " |  the shapes of `X` and `Y` congruent.\n",
      " |  \n",
      " |  The broadcasting rules are:\n",
      " |  \n",
      " |  * Dimensions of length 1 may be prepended to either array.\n",
      " |  * Arrays may be repeated along dimensions of length 1.\n",
      " |  \n",
      " |  Parameters\n",
      " |  ----------\n",
      " |  X : array_like\n",
      " |      First input array.\n",
      " |  Y : array_like\n",
      " |      Second input array.\n",
      " |  out : array_like\n",
      " |      An array to store the output. Must be the same shape as the\n",
      " |      output would have.\n",
      " |  \n",
      " |  Returns\n",
      " |  -------\n",
      " |  r : array_like\n",
      " |      The return value; if out is provided, `r` will be equal to out.\n",
      " |  \n",
      " |  Methods defined here:\n",
      " |  \n",
      " |  __call__(self, /, *args, **kwargs)\n",
      " |      Call self as a function.\n",
      " |  \n",
      " |  __repr__(self, /)\n",
      " |      Return repr(self).\n",
      " |  \n",
      " |  __str__(self, /)\n",
      " |      Return str(self).\n",
      " |  \n",
      " |  accumulate(...)\n",
      " |      accumulate(array, axis=0, dtype=None, out=None, keepdims=None)\n",
      " |      \n",
      " |      Accumulate the result of applying the operator to all elements.\n",
      " |      \n",
      " |      For a one-dimensional array, accumulate produces results equivalent to::\n",
      " |      \n",
      " |        r = np.empty(len(A))\n",
      " |        t = op.identity        # op = the ufunc being applied to A's  elements\n",
      " |        for i in range(len(A)):\n",
      " |            t = op(t, A[i])\n",
      " |            r[i] = t\n",
      " |        return r\n",
      " |      \n",
      " |      For example, add.accumulate() is equivalent to np.cumsum().\n",
      " |      \n",
      " |      For a multi-dimensional array, accumulate is applied along only one\n",
      " |      axis (axis zero by default; see Examples below) so repeated use is\n",
      " |      necessary if one wants to accumulate over multiple axes.\n",
      " |      \n",
      " |      Parameters\n",
      " |      ----------\n",
      " |      array : array_like\n",
      " |          The array to act on.\n",
      " |      axis : int, optional\n",
      " |          The axis along which to apply the accumulation; default is zero.\n",
      " |      dtype : data-type code, optional\n",
      " |          The data-type used to represent the intermediate results. Defaults\n",
      " |          to the data-type of the output array if such is provided, or the\n",
      " |          the data-type of the input array if no output array is provided.\n",
      " |      out : ndarray, optional\n",
      " |          A location into which the result is stored. If not provided a\n",
      " |          freshly-allocated array is returned.\n",
      " |      keepdims : bool\n",
      " |          Has no effect. Deprecated, and will be removed in future.\n",
      " |      \n",
      " |      Returns\n",
      " |      -------\n",
      " |      r : ndarray\n",
      " |          The accumulated values. If `out` was supplied, `r` is a reference to\n",
      " |          `out`.\n",
      " |      \n",
      " |      Examples\n",
      " |      --------\n",
      " |      1-D array examples:\n",
      " |      \n",
      " |      >>> np.add.accumulate([2, 3, 5])\n",
      " |      array([ 2,  5, 10])\n",
      " |      >>> np.multiply.accumulate([2, 3, 5])\n",
      " |      array([ 2,  6, 30])\n",
      " |      \n",
      " |      2-D array examples:\n",
      " |      \n",
      " |      >>> I = np.eye(2)\n",
      " |      >>> I\n",
      " |      array([[ 1.,  0.],\n",
      " |             [ 0.,  1.]])\n",
      " |      \n",
      " |      Accumulate along axis 0 (rows), down columns:\n",
      " |      \n",
      " |      >>> np.add.accumulate(I, 0)\n",
      " |      array([[ 1.,  0.],\n",
      " |             [ 1.,  1.]])\n",
      " |      >>> np.add.accumulate(I) # no axis specified = axis zero\n",
      " |      array([[ 1.,  0.],\n",
      " |             [ 1.,  1.]])\n",
      " |      \n",
      " |      Accumulate along axis 1 (columns), through rows:\n",
      " |      \n",
      " |      >>> np.add.accumulate(I, 1)\n",
      " |      array([[ 1.,  1.],\n",
      " |             [ 0.,  1.]])\n",
      " |  \n",
      " |  at(...)\n",
      " |      at(a, indices, b=None)\n",
      " |      \n",
      " |      Performs unbuffered in place operation on operand 'a' for elements\n",
      " |      specified by 'indices'. For addition ufunc, this method is equivalent to\n",
      " |      `a[indices] += b`, except that results are accumulated for elements that\n",
      " |      are indexed more than once. For example, `a[[0,0]] += 1` will only\n",
      " |      increment the first element once because of buffering, whereas\n",
      " |      `add.at(a, [0,0], 1)` will increment the first element twice.\n",
      " |      \n",
      " |      .. versionadded:: 1.8.0\n",
      " |      \n",
      " |      Parameters\n",
      " |      ----------\n",
      " |      a : array_like\n",
      " |          The array to perform in place operation on.\n",
      " |      indices : array_like or tuple\n",
      " |          Array like index object or slice object for indexing into first\n",
      " |          operand. If first operand has multiple dimensions, indices can be a\n",
      " |          tuple of array like index objects or slice objects.\n",
      " |      b : array_like\n",
      " |          Second operand for ufuncs requiring two operands. Operand must be\n",
      " |          broadcastable over first operand after indexing or slicing.\n",
      " |      \n",
      " |      Examples\n",
      " |      --------\n",
      " |      Set items 0 and 1 to their negative values:\n",
      " |      \n",
      " |      >>> a = np.array([1, 2, 3, 4])\n",
      " |      >>> np.negative.at(a, [0, 1])\n",
      " |      >>> print(a)\n",
      " |      array([-1, -2, 3, 4])\n",
      " |      \n",
      " |      ::\n",
      " |      \n",
      " |      Increment items 0 and 1, and increment item 2 twice:\n",
      " |      \n",
      " |      >>> a = np.array([1, 2, 3, 4])\n",
      " |      >>> np.add.at(a, [0, 1, 2, 2], 1)\n",
      " |      >>> print(a)\n",
      " |      array([2, 3, 5, 4])\n",
      " |      \n",
      " |      ::\n",
      " |      \n",
      " |      Add items 0 and 1 in first array to second array,\n",
      " |      and store results in first array:\n",
      " |      \n",
      " |      >>> a = np.array([1, 2, 3, 4])\n",
      " |      >>> b = np.array([1, 2])\n",
      " |      >>> np.add.at(a, [0, 1], b)\n",
      " |      >>> print(a)\n",
      " |      array([2, 4, 3, 4])\n",
      " |  \n",
      " |  outer(...)\n",
      " |      outer(A, B, **kwargs)\n",
      " |      \n",
      " |      Apply the ufunc `op` to all pairs (a, b) with a in `A` and b in `B`.\n",
      " |      \n",
      " |      Let ``M = A.ndim``, ``N = B.ndim``. Then the result, `C`, of\n",
      " |      ``op.outer(A, B)`` is an array of dimension M + N such that:\n",
      " |      \n",
      " |      .. math:: C[i_0, ..., i_{M-1}, j_0, ..., j_{N-1}] =\n",
      " |         op(A[i_0, ..., i_{M-1}], B[j_0, ..., j_{N-1}])\n",
      " |      \n",
      " |      For `A` and `B` one-dimensional, this is equivalent to::\n",
      " |      \n",
      " |        r = empty(len(A),len(B))\n",
      " |        for i in range(len(A)):\n",
      " |            for j in range(len(B)):\n",
      " |                r[i,j] = op(A[i], B[j]) # op = ufunc in question\n",
      " |      \n",
      " |      Parameters\n",
      " |      ----------\n",
      " |      A : array_like\n",
      " |          First array\n",
      " |      B : array_like\n",
      " |          Second array\n",
      " |      kwargs : any\n",
      " |          Arguments to pass on to the ufunc. Typically `dtype` or `out`.\n",
      " |      \n",
      " |      Returns\n",
      " |      -------\n",
      " |      r : ndarray\n",
      " |          Output array\n",
      " |      \n",
      " |      See Also\n",
      " |      --------\n",
      " |      numpy.outer\n",
      " |      \n",
      " |      Examples\n",
      " |      --------\n",
      " |      >>> np.multiply.outer([1, 2, 3], [4, 5, 6])\n",
      " |      array([[ 4,  5,  6],\n",
      " |             [ 8, 10, 12],\n",
      " |             [12, 15, 18]])\n",
      " |      \n",
      " |      A multi-dimensional example:\n",
      " |      \n",
      " |      >>> A = np.array([[1, 2, 3], [4, 5, 6]])\n",
      " |      >>> A.shape\n",
      " |      (2, 3)\n",
      " |      >>> B = np.array([[1, 2, 3, 4]])\n",
      " |      >>> B.shape\n",
      " |      (1, 4)\n",
      " |      >>> C = np.multiply.outer(A, B)\n",
      " |      >>> C.shape; C\n",
      " |      (2, 3, 1, 4)\n",
      " |      array([[[[ 1,  2,  3,  4]],\n",
      " |              [[ 2,  4,  6,  8]],\n",
      " |              [[ 3,  6,  9, 12]]],\n",
      " |             [[[ 4,  8, 12, 16]],\n",
      " |              [[ 5, 10, 15, 20]],\n",
      " |              [[ 6, 12, 18, 24]]]])\n",
      " |  \n",
      " |  reduce(...)\n",
      " |      reduce(a, axis=0, dtype=None, out=None, keepdims=False)\n",
      " |      \n",
      " |      Reduces `a`'s dimension by one, by applying ufunc along one axis.\n",
      " |      \n",
      " |      Let :math:`a.shape = (N_0, ..., N_i, ..., N_{M-1})`.  Then\n",
      " |      :math:`ufunc.reduce(a, axis=i)[k_0, ..,k_{i-1}, k_{i+1}, .., k_{M-1}]` =\n",
      " |      the result of iterating `j` over :math:`range(N_i)`, cumulatively applying\n",
      " |      ufunc to each :math:`a[k_0, ..,k_{i-1}, j, k_{i+1}, .., k_{M-1}]`.\n",
      " |      For a one-dimensional array, reduce produces results equivalent to:\n",
      " |      ::\n",
      " |      \n",
      " |       r = op.identity # op = ufunc\n",
      " |       for i in range(len(A)):\n",
      " |         r = op(r, A[i])\n",
      " |       return r\n",
      " |      \n",
      " |      For example, add.reduce() is equivalent to sum().\n",
      " |      \n",
      " |      Parameters\n",
      " |      ----------\n",
      " |      a : array_like\n",
      " |          The array to act on.\n",
      " |      axis : None or int or tuple of ints, optional\n",
      " |          Axis or axes along which a reduction is performed.\n",
      " |          The default (`axis` = 0) is perform a reduction over the first\n",
      " |          dimension of the input array. `axis` may be negative, in\n",
      " |          which case it counts from the last to the first axis.\n",
      " |      \n",
      " |          .. versionadded:: 1.7.0\n",
      " |      \n",
      " |          If this is `None`, a reduction is performed over all the axes.\n",
      " |          If this is a tuple of ints, a reduction is performed on multiple\n",
      " |          axes, instead of a single axis or all the axes as before.\n",
      " |      \n",
      " |          For operations which are either not commutative or not associative,\n",
      " |          doing a reduction over multiple axes is not well-defined. The\n",
      " |          ufuncs do not currently raise an exception in this case, but will\n",
      " |          likely do so in the future.\n",
      " |      dtype : data-type code, optional\n",
      " |          The type used to represent the intermediate results. Defaults\n",
      " |          to the data-type of the output array if this is provided, or\n",
      " |          the data-type of the input array if no output array is provided.\n",
      " |      out : ndarray, optional\n",
      " |          A location into which the result is stored. If not provided, a\n",
      " |          freshly-allocated array is returned.\n",
      " |      keepdims : bool, optional\n",
      " |          If this is set to True, the axes which are reduced are left\n",
      " |          in the result as dimensions with size one. With this option,\n",
      " |          the result will broadcast correctly against the original `arr`.\n",
      " |      \n",
      " |          .. versionadded:: 1.7.0\n",
      " |      \n",
      " |      Returns\n",
      " |      -------\n",
      " |      r : ndarray\n",
      " |          The reduced array. If `out` was supplied, `r` is a reference to it.\n",
      " |      \n",
      " |      Examples\n",
      " |      --------\n",
      " |      >>> np.multiply.reduce([2,3,5])\n",
      " |      30\n",
      " |      \n",
      " |      A multi-dimensional array example:\n",
      " |      \n",
      " |      >>> X = np.arange(8).reshape((2,2,2))\n",
      " |      >>> X\n",
      " |      array([[[0, 1],\n",
      " |              [2, 3]],\n",
      " |             [[4, 5],\n",
      " |              [6, 7]]])\n",
      " |      >>> np.add.reduce(X, 0)\n",
      " |      array([[ 4,  6],\n",
      " |             [ 8, 10]])\n",
      " |      >>> np.add.reduce(X) # confirm: default axis value is 0\n",
      " |      array([[ 4,  6],\n",
      " |             [ 8, 10]])\n",
      " |      >>> np.add.reduce(X, 1)\n",
      " |      array([[ 2,  4],\n",
      " |             [10, 12]])\n",
      " |      >>> np.add.reduce(X, 2)\n",
      " |      array([[ 1,  5],\n",
      " |             [ 9, 13]])\n",
      " |  \n",
      " |  reduceat(...)\n",
      " |      reduceat(a, indices, axis=0, dtype=None, out=None)\n",
      " |      \n",
      " |      Performs a (local) reduce with specified slices over a single axis.\n",
      " |      \n",
      " |      For i in ``range(len(indices))``, `reduceat` computes\n",
      " |      ``ufunc.reduce(a[indices[i]:indices[i+1]])``, which becomes the i-th\n",
      " |      generalized \"row\" parallel to `axis` in the final result (i.e., in a\n",
      " |      2-D array, for example, if `axis = 0`, it becomes the i-th row, but if\n",
      " |      `axis = 1`, it becomes the i-th column).  There are three exceptions to this:\n",
      " |      \n",
      " |      * when ``i = len(indices) - 1`` (so for the last index),\n",
      " |        ``indices[i+1] = a.shape[axis]``.\n",
      " |      * if ``indices[i] >= indices[i + 1]``, the i-th generalized \"row\" is\n",
      " |        simply ``a[indices[i]]``.\n",
      " |      * if ``indices[i] >= len(a)`` or ``indices[i] < 0``, an error is raised.\n",
      " |      \n",
      " |      The shape of the output depends on the size of `indices`, and may be\n",
      " |      larger than `a` (this happens if ``len(indices) > a.shape[axis]``).\n",
      " |      \n",
      " |      Parameters\n",
      " |      ----------\n",
      " |      a : array_like\n",
      " |          The array to act on.\n",
      " |      indices : array_like\n",
      " |          Paired indices, comma separated (not colon), specifying slices to\n",
      " |          reduce.\n",
      " |      axis : int, optional\n",
      " |          The axis along which to apply the reduceat.\n",
      " |      dtype : data-type code, optional\n",
      " |          The type used to represent the intermediate results. Defaults\n",
      " |          to the data type of the output array if this is provided, or\n",
      " |          the data type of the input array if no output array is provided.\n",
      " |      out : ndarray, optional\n",
      " |          A location into which the result is stored. If not provided a\n",
      " |          freshly-allocated array is returned.\n",
      " |      \n",
      " |      Returns\n",
      " |      -------\n",
      " |      r : ndarray\n",
      " |          The reduced values. If `out` was supplied, `r` is a reference to\n",
      " |          `out`.\n",
      " |      \n",
      " |      Notes\n",
      " |      -----\n",
      " |      A descriptive example:\n",
      " |      \n",
      " |      If `a` is 1-D, the function `ufunc.accumulate(a)` is the same as\n",
      " |      ``ufunc.reduceat(a, indices)[::2]`` where `indices` is\n",
      " |      ``range(len(array) - 1)`` with a zero placed\n",
      " |      in every other element:\n",
      " |      ``indices = zeros(2 * len(a) - 1)``, ``indices[1::2] = range(1, len(a))``.\n",
      " |      \n",
      " |      Don't be fooled by this attribute's name: `reduceat(a)` is not\n",
      " |      necessarily smaller than `a`.\n",
      " |      \n",
      " |      Examples\n",
      " |      --------\n",
      " |      To take the running sum of four successive values:\n",
      " |      \n",
      " |      >>> np.add.reduceat(np.arange(8),[0,4, 1,5, 2,6, 3,7])[::2]\n",
      " |      array([ 6, 10, 14, 18])\n",
      " |      \n",
      " |      A 2-D example:\n",
      " |      \n",
      " |      >>> x = np.linspace(0, 15, 16).reshape(4,4)\n",
      " |      >>> x\n",
      " |      array([[  0.,   1.,   2.,   3.],\n",
      " |             [  4.,   5.,   6.,   7.],\n",
      " |             [  8.,   9.,  10.,  11.],\n",
      " |             [ 12.,  13.,  14.,  15.]])\n",
      " |      \n",
      " |      ::\n",
      " |      \n",
      " |       # reduce such that the result has the following five rows:\n",
      " |       # [row1 + row2 + row3]\n",
      " |       # [row4]\n",
      " |       # [row2]\n",
      " |       # [row3]\n",
      " |       # [row1 + row2 + row3 + row4]\n",
      " |      \n",
      " |      >>> np.add.reduceat(x, [0, 3, 1, 2, 0])\n",
      " |      array([[ 12.,  15.,  18.,  21.],\n",
      " |             [ 12.,  13.,  14.,  15.],\n",
      " |             [  4.,   5.,   6.,   7.],\n",
      " |             [  8.,   9.,  10.,  11.],\n",
      " |             [ 24.,  28.,  32.,  36.]])\n",
      " |      \n",
      " |      ::\n",
      " |      \n",
      " |       # reduce such that result has the following two columns:\n",
      " |       # [col1 * col2 * col3, col4]\n",
      " |      \n",
      " |      >>> np.multiply.reduceat(x, [0, 3], 1)\n",
      " |      array([[    0.,     3.],\n",
      " |             [  120.,     7.],\n",
      " |             [  720.,    11.],\n",
      " |             [ 2184.,    15.]])\n",
      " |  \n",
      " |  ----------------------------------------------------------------------\n",
      " |  Data descriptors defined here:\n",
      " |  \n",
      " |  identity\n",
      " |      The identity value.\n",
      " |      \n",
      " |      Data attribute containing the identity element for the ufunc, if it has one.\n",
      " |      If it does not, the attribute value is None.\n",
      " |      \n",
      " |      Examples\n",
      " |      --------\n",
      " |      >>> np.add.identity\n",
      " |      0\n",
      " |      >>> np.multiply.identity\n",
      " |      1\n",
      " |      >>> np.power.identity\n",
      " |      1\n",
      " |      >>> print(np.exp.identity)\n",
      " |      None\n",
      " |  \n",
      " |  nargs\n",
      " |      The number of arguments.\n",
      " |      \n",
      " |      Data attribute containing the number of arguments the ufunc takes, including\n",
      " |      optional ones.\n",
      " |      \n",
      " |      Notes\n",
      " |      -----\n",
      " |      Typically this value will be one more than what you might expect because all\n",
      " |      ufuncs take  the optional \"out\" argument.\n",
      " |      \n",
      " |      Examples\n",
      " |      --------\n",
      " |      >>> np.add.nargs\n",
      " |      3\n",
      " |      >>> np.multiply.nargs\n",
      " |      3\n",
      " |      >>> np.power.nargs\n",
      " |      3\n",
      " |      >>> np.exp.nargs\n",
      " |      2\n",
      " |  \n",
      " |  nin\n",
      " |      The number of inputs.\n",
      " |      \n",
      " |      Data attribute containing the number of arguments the ufunc treats as input.\n",
      " |      \n",
      " |      Examples\n",
      " |      --------\n",
      " |      >>> np.add.nin\n",
      " |      2\n",
      " |      >>> np.multiply.nin\n",
      " |      2\n",
      " |      >>> np.power.nin\n",
      " |      2\n",
      " |      >>> np.exp.nin\n",
      " |      1\n",
      " |  \n",
      " |  nout\n",
      " |      The number of outputs.\n",
      " |      \n",
      " |      Data attribute containing the number of arguments the ufunc treats as output.\n",
      " |      \n",
      " |      Notes\n",
      " |      -----\n",
      " |      Since all ufuncs can take output arguments, this will always be (at least) 1.\n",
      " |      \n",
      " |      Examples\n",
      " |      --------\n",
      " |      >>> np.add.nout\n",
      " |      1\n",
      " |      >>> np.multiply.nout\n",
      " |      1\n",
      " |      >>> np.power.nout\n",
      " |      1\n",
      " |      >>> np.exp.nout\n",
      " |      1\n",
      " |  \n",
      " |  ntypes\n",
      " |      The number of types.\n",
      " |      \n",
      " |      The number of numerical NumPy types - of which there are 18 total - on which\n",
      " |      the ufunc can operate.\n",
      " |      \n",
      " |      See Also\n",
      " |      --------\n",
      " |      numpy.ufunc.types\n",
      " |      \n",
      " |      Examples\n",
      " |      --------\n",
      " |      >>> np.add.ntypes\n",
      " |      18\n",
      " |      >>> np.multiply.ntypes\n",
      " |      18\n",
      " |      >>> np.power.ntypes\n",
      " |      17\n",
      " |      >>> np.exp.ntypes\n",
      " |      7\n",
      " |      >>> np.remainder.ntypes\n",
      " |      14\n",
      " |  \n",
      " |  signature\n",
      " |  \n",
      " |  types\n",
      " |      Returns a list with types grouped input->output.\n",
      " |      \n",
      " |      Data attribute listing the data-type \"Domain-Range\" groupings the ufunc can\n",
      " |      deliver. The data-types are given using the character codes.\n",
      " |      \n",
      " |      See Also\n",
      " |      --------\n",
      " |      numpy.ufunc.ntypes\n",
      " |      \n",
      " |      Examples\n",
      " |      --------\n",
      " |      >>> np.add.types\n",
      " |      ['??->?', 'bb->b', 'BB->B', 'hh->h', 'HH->H', 'ii->i', 'II->I', 'll->l',\n",
      " |      'LL->L', 'qq->q', 'QQ->Q', 'ff->f', 'dd->d', 'gg->g', 'FF->F', 'DD->D',\n",
      " |      'GG->G', 'OO->O']\n",
      " |      \n",
      " |      >>> np.multiply.types\n",
      " |      ['??->?', 'bb->b', 'BB->B', 'hh->h', 'HH->H', 'ii->i', 'II->I', 'll->l',\n",
      " |      'LL->L', 'qq->q', 'QQ->Q', 'ff->f', 'dd->d', 'gg->g', 'FF->F', 'DD->D',\n",
      " |      'GG->G', 'OO->O']\n",
      " |      \n",
      " |      >>> np.power.types\n",
      " |      ['bb->b', 'BB->B', 'hh->h', 'HH->H', 'ii->i', 'II->I', 'll->l', 'LL->L',\n",
      " |      'qq->q', 'QQ->Q', 'ff->f', 'dd->d', 'gg->g', 'FF->F', 'DD->D', 'GG->G',\n",
      " |      'OO->O']\n",
      " |      \n",
      " |      >>> np.exp.types\n",
      " |      ['f->f', 'd->d', 'g->g', 'F->F', 'D->D', 'G->G', 'O->O']\n",
      " |      \n",
      " |      >>> np.remainder.types\n",
      " |      ['bb->b', 'BB->B', 'hh->h', 'HH->H', 'ii->i', 'II->I', 'll->l', 'LL->L',\n",
      " |      'qq->q', 'QQ->Q', 'ff->f', 'dd->d', 'gg->g', 'OO->O']\n",
      "\n"
     ]
    }
   ],
   "source": [
    "import numpy as mynumpy\n",
    "help(mynumpy.fabs)\n",
    "#mynumpy.cos?"
   ]
  },
  {
   "cell_type": "markdown",
   "metadata": {},
   "source": [
    "# We can load specific functions or data from a module:\n",
    "## fabs, cos and sin are functions\n",
    "## pi is data\n",
    "## from numpy import abs, cos, sin, pi"
   ]
  },
  {
   "cell_type": "code",
   "execution_count": 58,
   "metadata": {},
   "outputs": [
    {
     "name": "stdout",
     "output_type": "stream",
     "text": [
      "<ufunc 'fabs'>\n",
      "3.141592653589793\n"
     ]
    }
   ],
   "source": [
    "from numpy import fabs, cos, sin, pi\n",
    "print(fabs)\n",
    "print(pi)"
   ]
  },
  {
   "cell_type": "markdown",
   "metadata": {},
   "source": [
    "## Functions require data to operate on:\n",
    "## e.g. sin(pi/2)\n",
    "## Note the ( ) brackets are used to encapsulate the inputs into the function"
   ]
  },
  {
   "cell_type": "code",
   "execution_count": 62,
   "metadata": {},
   "outputs": [
    {
     "name": "stdout",
     "output_type": "stream",
     "text": [
      "1.0\n"
     ]
    }
   ],
   "source": [
    "print(sin(pi/2))"
   ]
  },
  {
   "attachments": {},
   "cell_type": "markdown",
   "metadata": {},
   "source": [
    "------\n",
    "# We can create our own functions: *def FUNCTION_NAME(INPUT1,INPUT2):*\n",
    "## Below is a function that takes two inputs and computes $INPUT1^{INPUT2}$"
   ]
  },
  {
   "cell_type": "code",
   "execution_count": 62,
   "metadata": {},
   "outputs": [
    {
     "name": "stdout",
     "output_type": "stream",
     "text": [
      "8\n",
      "3.0\n"
     ]
    }
   ],
   "source": [
    "def MyPower(Input1, Input2):\n",
    "    return Input1**Input2\n",
    "print(MyPower(2,3))\n",
    "print(MyPower(9,0.5))"
   ]
  },
  {
   "cell_type": "markdown",
   "metadata": {},
   "source": [
    "# Alternative: *MyPowerLambda = lambda INPUT1, INPUT2: INPUT1**INPUT2\n",
    "## Lambda functions are quick but more limited than using def:"
   ]
  },
  {
   "cell_type": "code",
   "execution_count": 63,
   "metadata": {},
   "outputs": [
    {
     "name": "stdout",
     "output_type": "stream",
     "text": [
      "8\n",
      "3.0\n"
     ]
    }
   ],
   "source": [
    "MyPowerLambda = lambda INPUT1,INPUT2: INPUT1**INPUT2\n",
    "print(MyPowerLambda(2,3))\n",
    "print(MyPowerLambda(9,0.5))"
   ]
  },
  {
   "cell_type": "markdown",
   "metadata": {},
   "source": [
    "# Creating your own Module!\n",
    "## Put your own functions into your own module\n",
    "## Create a Python file: Navigator Window - Select New -> Text File\n",
    "## Save the file as MyModule.py\n",
    "## Place the MyPowerModule function into a python file MyModule.py\n",
    "## *from MyModule import MyPowerModule*"
   ]
  },
  {
   "cell_type": "code",
   "execution_count": 64,
   "metadata": {},
   "outputs": [
    {
     "name": "stdout",
     "output_type": "stream",
     "text": [
      "8\n",
      "3.0\n"
     ]
    }
   ],
   "source": [
    "from MyModule import MyPowerModule\n",
    "\n",
    "print(MyPowerModule(2,3))\n",
    "print(MyPowerModule(9,0.5))"
   ]
  },
  {
   "cell_type": "markdown",
   "metadata": {},
   "source": [
    "----\n",
    "# We can do Linear Algebra: Vectors\n",
    "## Two types are at our disposal to construct vectors:\n",
    "## 1. List <[2,3,5]> - data type mainly developed for non-mathematical objects and no object support for mathematical operations.\n",
    "## 2. NDArray < numpy.array([2,3,5])> - data type mainly developed for numbers and object support for element-wise (Hadamard) operations.\n",
    "-------\n",
    "## Consider the array $a = \\left[2,3,5\\right]$"
   ]
  },
  {
   "cell_type": "code",
   "execution_count": 39,
   "metadata": {},
   "outputs": [
    {
     "name": "stdout",
     "output_type": "stream",
     "text": [
      "Object type : <class 'list'>\n",
      "a: [2, 3, 5]\n",
      "2*a: [2, 3, 5, 2, 3, 5]\n",
      "a + a: [2, 3, 5, 2, 3, 5]\n"
     ]
    },
    {
     "ename": "TypeError",
     "evalue": "can't multiply sequence by non-int of type 'list'",
     "output_type": "error",
     "traceback": [
      "\u001b[0;31m---------------------------------------------------------------------------\u001b[0m",
      "\u001b[0;31mTypeError\u001b[0m                                 Traceback (most recent call last)",
      "\u001b[0;32m<ipython-input-39-ca2e7de9599a>\u001b[0m in \u001b[0;36m<module>\u001b[0;34m()\u001b[0m\n\u001b[1;32m      4\u001b[0m \u001b[0mprint\u001b[0m\u001b[0;34m(\u001b[0m\u001b[0;34m'2*a: {}'\u001b[0m\u001b[0;34m.\u001b[0m\u001b[0mformat\u001b[0m\u001b[0;34m(\u001b[0m\u001b[0;36m2\u001b[0m\u001b[0;34m*\u001b[0m\u001b[0maList\u001b[0m\u001b[0;34m)\u001b[0m\u001b[0;34m)\u001b[0m\u001b[0;34m\u001b[0m\u001b[0m\n\u001b[1;32m      5\u001b[0m \u001b[0mprint\u001b[0m\u001b[0;34m(\u001b[0m\u001b[0;34m'a + a: {}'\u001b[0m\u001b[0;34m.\u001b[0m\u001b[0mformat\u001b[0m\u001b[0;34m(\u001b[0m\u001b[0maList\u001b[0m\u001b[0;34m+\u001b[0m\u001b[0maList\u001b[0m\u001b[0;34m)\u001b[0m\u001b[0;34m)\u001b[0m\u001b[0;34m\u001b[0m\u001b[0m\n\u001b[0;32m----> 6\u001b[0;31m \u001b[0mprint\u001b[0m\u001b[0;34m(\u001b[0m\u001b[0;34m'a*a: {}'\u001b[0m\u001b[0;34m.\u001b[0m\u001b[0mformat\u001b[0m\u001b[0;34m(\u001b[0m\u001b[0maList\u001b[0m\u001b[0;34m*\u001b[0m\u001b[0maList\u001b[0m\u001b[0;34m)\u001b[0m\u001b[0;34m)\u001b[0m\u001b[0;34m\u001b[0m\u001b[0m\n\u001b[0m",
      "\u001b[0;31mTypeError\u001b[0m: can't multiply sequence by non-int of type 'list'"
     ]
    }
   ],
   "source": [
    "aList = [2,3,5]\n",
    "print('Object type : {}'.format(type(aList)))\n",
    "print('a: {}'.format(aList))\n",
    "print('2*a: {}'.format(2*aList))\n",
    "print('a + a: {}'.format(aList+aList))\n",
    "print('a*a: {}'.format(aList*aList))"
   ]
  },
  {
   "cell_type": "code",
   "execution_count": 36,
   "metadata": {},
   "outputs": [
    {
     "name": "stdout",
     "output_type": "stream",
     "text": [
      "Object type : <class 'numpy.ndarray'>\n",
      "a: [2 3 5]\n",
      "2*a: [ 4  6 10]\n",
      "a + a: [ 4  6 10]\n",
      "a*a: [ 4  9 25]\n"
     ]
    }
   ],
   "source": [
    "import numpy as np\n",
    "aArray = np.array([2,3,5])\n",
    "print('Object type : {}'.format(type(aArray)))\n",
    "print('a: {}'.format(aArray))\n",
    "print('2*a: {}'.format(2*aArray))\n",
    "print('a + a: {}'.format(aArray+aArray))\n",
    "print('a*a: {}'.format(aArray*aArray))"
   ]
  },
  {
   "cell_type": "markdown",
   "metadata": {},
   "source": [
    "# Linear Algebra operations are available from functions in modules\n",
    "## numpy module has support for numerous Linear Algebra operations that operate on both  Lists and NDarrays "
   ]
  },
  {
   "cell_type": "code",
   "execution_count": 42,
   "metadata": {},
   "outputs": [
    {
     "name": "stdout",
     "output_type": "stream",
     "text": [
      "Object type : <class 'numpy.ndarray'>\n",
      "Cross product a x a: [0 0 0]\n",
      "Inner (dot) product aˆTa: 38\n",
      "Outer product aaˆT:\n",
      " [[ 4  6 10]\n",
      " [ 6  9 15]\n",
      " [10 15 25]]\n"
     ]
    }
   ],
   "source": [
    "import numpy as np\n",
    "aArray = np.array([2,3,5])\n",
    "print('Object type : {}'.format(type(aArray)))\n",
    "print('Cross product a x a: {}'.format(np.cross(aArray,aArray)))\n",
    "print('Inner (dot) product aˆTa: {}'.format(np.dot(aArray,aArray)))\n",
    "print('Outer product aaˆT:\\n {}'.format(np.outer(aArray,aArray)))"
   ]
  },
  {
   "cell_type": "markdown",
   "metadata": {},
   "source": [
    "-------\n",
    "# We can do Linear Algebra: Matrices\n",
    "## Two data types are at our disposal\n",
    "## 1. List <[[2,3,5],[7,11,13],[17,19,23]]> - data type mainly developed for non-mathematical objects and no object support for mathematical operations\n",
    "## 2. NDarray < numpy.array([[2,3,5],[7,11,13],[17,19,23]])> - data type mainly developed for numbers and object support for element-wise (Hadamard) operations.\n",
    "-------\n",
    "## Consider the matrix $M = \\left[\\begin{eqnarray}\n",
    "2&&3&&5\\\\\n",
    "7&&11&&13\\\\\n",
    "17&&19&&23\\\\\n",
    "\\end{eqnarray}\\right]$"
   ]
  },
  {
   "cell_type": "markdown",
   "metadata": {},
   "source": [
    "# Linear Algebra operations need to be specified explicitely\n",
    "## numpy module has support for numerous Algebra operations and works on both Lists and NDarrays"
   ]
  },
  {
   "cell_type": "code",
   "execution_count": 97,
   "metadata": {},
   "outputs": [
    {
     "name": "stdout",
     "output_type": "stream",
     "text": [
      "a : [2, 3, 5]\n",
      "M : [[2, 3, 5], [7, 11, 13], [17, 19, 23]]\n",
      "----------------------------------------------------------------\n",
      "Matrix vector product M a = : [ 38 112 206]\n",
      "vector Matrix vector product a^T M a = : 1442\n",
      "----------------------------------------------------------------\n",
      "Solving Linear System Mx = a: [-0.12820513 -0.61538462  0.82051282]\n",
      "Test solution x -> Mx = a: [ -2.22044605e-16  -8.88178420e-16  -1.77635684e-15]\n",
      "----------------------------------------------------------------\n",
      "Eigenvalues of M: [ 36.81172799  -1.91702763   1.10529963]\n",
      "Eigenvectors of M:\n",
      " [[-0.16510917 -0.60574007  0.36952037]\n",
      " [-0.4789958  -0.3769456  -0.8244886 ]\n",
      " [-0.86214963  0.70070748  0.42857116]]\n",
      "----------------------------------------------------------------\n",
      "Check First Eigenvector Solution:  (M  - L1 I)v1 = 0:\n",
      " [ -3.33066907e-15  -5.32907052e-15  -7.10542736e-15]\n",
      "----------------------------------------------------------------\n",
      "First Eigenvalue:  L1:\n",
      " 36.81172799248346\n",
      "Compute First Eigenvalue from Eigenvector:  v1ˆT M v1:\n",
      " 36.81172799248348\n"
     ]
    }
   ],
   "source": [
    "import numpy as np\n",
    "aList = [2,3,5]\n",
    "MList = [[2,3,5],[7,11,13],[17,19,23]]\n",
    "\n",
    "print('a : {}'.format(aList))\n",
    "print('M : {}'.format(MList))\n",
    "print('----------------------------------------------------------------')\n",
    "Ma = np.dot(MList,aList)\n",
    "print('Matrix vector product M a = : {}'.format(np.dot(MList,aList)))\n",
    "print('vector Matrix vector product a^T M a = : {}'.format(np.dot(aList,Ma)))\n",
    "print('----------------------------------------------------------------')\n",
    "x = np.linalg.solve(MList,aList)\n",
    "print('Solving Linear System Mx = a: {}'.format(x))\n",
    "print('Test solution x -> Mx = a: {}'.format(np.dot(MList,x) - aList))\n",
    "print('----------------------------------------------------------------')\n",
    "EigVal,EigVec = np.linalg.eig(MList)\n",
    "print('Eigenvalues of M: {}'.format(EigVal))\n",
    "print('Eigenvectors of M:\\n {}'.format(EigVec))\n",
    "print('----------------------------------------------------------------')\n",
    "L1 = EigVal[0]\n",
    "v1 = EigVec[:,0]\n",
    "M_L1I = np.array(MList) - L1*np.eye(3)\n",
    "print('Check First Eigenvector Solution:  (M  - L1 I)v1 = 0:\\n {}'.format(np.dot(M_L1I,v1)))\n",
    "print('----------------------------------------------------------------')\n",
    "print('First Eigenvalue:  L1:\\n {}'.format(EigVal[0]))\n",
    "v1Mv1 = np.dot(v1,np.dot(MList,v1))\n",
    "print('Compute First Eigenvalue from Eigenvector:  v1ˆT M v1:\\n {}'.format(v1Mv1))"
   ]
  },
  {
   "cell_type": "markdown",
   "metadata": {},
   "source": [
    "-------------\n",
    "# Accessing Vector and Matrix entries: Use [ ] brackets\n",
    "## Specify index number - indexes start at 0"
   ]
  },
  {
   "cell_type": "code",
   "execution_count": 107,
   "metadata": {},
   "outputs": [
    {
     "name": "stdout",
     "output_type": "stream",
     "text": [
      "M is :\n",
      " [[ 2  3  5]\n",
      " [ 7 11 13]\n",
      " [17 19 23]]\n",
      "Entry in Second row, third column: 13\n"
     ]
    }
   ],
   "source": [
    "MArray = np.array(MList)\n",
    "print('M is :\\n {}'.format(MArray))\n",
    "print('Entry in Second row, third column: {}'.format(MArray[1,2]))"
   ]
  },
  {
   "cell_type": "markdown",
   "metadata": {},
   "source": [
    "# Extracting a row or column: Use : to indicate all row or column entries"
   ]
  },
  {
   "cell_type": "code",
   "execution_count": 110,
   "metadata": {},
   "outputs": [
    {
     "name": "stdout",
     "output_type": "stream",
     "text": [
      "M is :\n",
      " [[ 2  3  5]\n",
      " [ 7 11 13]\n",
      " [17 19 23]]\n",
      "Third row: [17 19 23]\n",
      "First column: [ 2  7 17]\n"
     ]
    }
   ],
   "source": [
    "print('M is :\\n {}'.format(MArray))\n",
    "print('Third row: {}'.format(MArray[2,:]))\n",
    "print('First column: {}'.format(MArray[:,0]))"
   ]
  },
  {
   "cell_type": "markdown",
   "metadata": {},
   "source": [
    "# Extracting a sub-matrix: Use BEGIN:END to indicate row or column range\n",
    "# END index is not included in sub-matrix i.e. always specify 1 larger than matrix that you want to extract"
   ]
  },
  {
   "cell_type": "code",
   "execution_count": 113,
   "metadata": {},
   "outputs": [
    {
     "name": "stdout",
     "output_type": "stream",
     "text": [
      "M is :\n",
      " [[ 2  3  5]\n",
      " [ 7 11 13]\n",
      " [17 19 23]]\n",
      "Extract 2x2 matrix from row 2-3 and column 1-2:\n",
      " [[ 7 11]\n",
      " [17 19]]\n"
     ]
    }
   ],
   "source": [
    "print('M is :\\n {}'.format(MArray))\n",
    "print('Extract 2x2 matrix from row 2-3 and column 1-2:\\n {}'.format(MArray[1:4,0:2]))"
   ]
  },
  {
   "cell_type": "markdown",
   "metadata": {},
   "source": [
    "# Indicating index from the end: Use -NUMBER\n",
    "# Indication up to the end: Use NUMBER:"
   ]
  },
  {
   "cell_type": "code",
   "execution_count": 116,
   "metadata": {},
   "outputs": [
    {
     "name": "stdout",
     "output_type": "stream",
     "text": [
      "M is :\n",
      " [[ 2  3  5]\n",
      " [ 7 11 13]\n",
      " [17 19 23]]\n",
      "Extract 2x3 vector from row 2 to the end and column 1 to the second last column:\n",
      " [[ 7 11]\n",
      " [17 19]]\n"
     ]
    }
   ],
   "source": [
    "print('M is :\\n {}'.format(MArray))\n",
    "print('Extract 2x3 vector from row 2 to the end and column 1 to the second last column:\\n {}'.format(MArray[1:,0:-1]))"
   ]
  },
  {
   "cell_type": "markdown",
   "metadata": {},
   "source": [
    "-------\n",
    "# Reading and Interpreting Error Messages\n",
    "## SyntaxError: Mistake with syntax e.g. bracket not closing\n",
    "## TypeError: operation that is not permitted or defined for data type\n",
    "## IndexError: Accessing an index that is out of bounds or not permitted\n",
    "## ZeroDivisionError: Dividng by zero\n",
    "## NameError: Using an undefind name\n",
    "## ValueError: The object has the right type but the operation is on the value is not permitted\n",
    "## AttributeError: Accessing an atribute of an object that does not exist\n",
    "## LinAlgError: Inconsistent Linear Algebra Operations\n",
    "## Spot and correct the following mistakes"
   ]
  },
  {
   "cell_type": "code",
   "execution_count": 127,
   "metadata": {},
   "outputs": [
    {
     "ename": "SyntaxError",
     "evalue": "unexpected EOF while parsing (<ipython-input-127-a9ad4b73ef9b>, line 1)",
     "output_type": "error",
     "traceback": [
      "\u001b[0;36m  File \u001b[0;32m\"<ipython-input-127-a9ad4b73ef9b>\"\u001b[0;36m, line \u001b[0;32m1\u001b[0m\n\u001b[0;31m    a = (((45 + 6)*3 - 3)/76\u001b[0m\n\u001b[0m                            ^\u001b[0m\n\u001b[0;31mSyntaxError\u001b[0m\u001b[0;31m:\u001b[0m unexpected EOF while parsing\n"
     ]
    }
   ],
   "source": [
    "a = (((45 + 6)*3 - 3)/76"
   ]
  },
  {
   "cell_type": "code",
   "execution_count": 126,
   "metadata": {},
   "outputs": [
    {
     "ename": "TypeError",
     "evalue": "can't multiply sequence by non-int of type 'list'",
     "output_type": "error",
     "traceback": [
      "\u001b[0;31m---------------------------------------------------------------------------\u001b[0m",
      "\u001b[0;31mTypeError\u001b[0m                                 Traceback (most recent call last)",
      "\u001b[0;32m<ipython-input-126-429401cbc962>\u001b[0m in \u001b[0;36m<module>\u001b[0;34m()\u001b[0m\n\u001b[0;32m----> 1\u001b[0;31m \u001b[0mb\u001b[0m \u001b[0;34m=\u001b[0m \u001b[0mMList\u001b[0m\u001b[0;34m*\u001b[0m\u001b[0maList\u001b[0m\u001b[0;34m\u001b[0m\u001b[0m\n\u001b[0m\u001b[1;32m      2\u001b[0m \u001b[0mprint\u001b[0m\u001b[0;34m(\u001b[0m\u001b[0mb\u001b[0m\u001b[0;34m)\u001b[0m\u001b[0;34m\u001b[0m\u001b[0m\n",
      "\u001b[0;31mTypeError\u001b[0m: can't multiply sequence by non-int of type 'list'"
     ]
    }
   ],
   "source": [
    "b = MList*aList\n",
    "print(b)"
   ]
  },
  {
   "cell_type": "code",
   "execution_count": 129,
   "metadata": {},
   "outputs": [
    {
     "ename": "IndexError",
     "evalue": "list index out of range",
     "output_type": "error",
     "traceback": [
      "\u001b[0;31m---------------------------------------------------------------------------\u001b[0m",
      "\u001b[0;31mIndexError\u001b[0m                                Traceback (most recent call last)",
      "\u001b[0;32m<ipython-input-129-407ecc20cf6d>\u001b[0m in \u001b[0;36m<module>\u001b[0;34m()\u001b[0m\n\u001b[0;32m----> 1\u001b[0;31m \u001b[0mprint\u001b[0m\u001b[0;34m(\u001b[0m\u001b[0mMList\u001b[0m\u001b[0;34m[\u001b[0m\u001b[0;36m2\u001b[0m\u001b[0;34m]\u001b[0m\u001b[0;34m[\u001b[0m\u001b[0;36m3\u001b[0m\u001b[0;34m]\u001b[0m\u001b[0;34m)\u001b[0m\u001b[0;34m\u001b[0m\u001b[0m\n\u001b[0m",
      "\u001b[0;31mIndexError\u001b[0m: list index out of range"
     ]
    }
   ],
   "source": [
    "print(MList[2][3])"
   ]
  },
  {
   "cell_type": "code",
   "execution_count": 130,
   "metadata": {},
   "outputs": [
    {
     "ename": "NameError",
     "evalue": "name 'bArray' is not defined",
     "output_type": "error",
     "traceback": [
      "\u001b[0;31m---------------------------------------------------------------------------\u001b[0m",
      "\u001b[0;31mNameError\u001b[0m                                 Traceback (most recent call last)",
      "\u001b[0;32m<ipython-input-130-c16193eff152>\u001b[0m in \u001b[0;36m<module>\u001b[0;34m()\u001b[0m\n\u001b[0;32m----> 1\u001b[0;31m \u001b[0mprint\u001b[0m\u001b[0;34m(\u001b[0m\u001b[0mMArray\u001b[0m\u001b[0;34m*\u001b[0m\u001b[0maArray\u001b[0m \u001b[0;34m-\u001b[0m \u001b[0mbArray\u001b[0m\u001b[0;34m)\u001b[0m\u001b[0;34m\u001b[0m\u001b[0m\n\u001b[0m",
      "\u001b[0;31mNameError\u001b[0m: name 'bArray' is not defined"
     ]
    }
   ],
   "source": [
    "print(MArray*aArray - bArray)"
   ]
  },
  {
   "cell_type": "code",
   "execution_count": 132,
   "metadata": {},
   "outputs": [
    {
     "name": "stdout",
     "output_type": "stream",
     "text": [
      "45\n"
     ]
    },
    {
     "ename": "ValueError",
     "evalue": "invalid literal for int() with base 10: 'PMO'",
     "output_type": "error",
     "traceback": [
      "\u001b[0;31m---------------------------------------------------------------------------\u001b[0m",
      "\u001b[0;31mValueError\u001b[0m                                Traceback (most recent call last)",
      "\u001b[0;32m<ipython-input-132-9413ed2ce6eb>\u001b[0m in \u001b[0;36m<module>\u001b[0;34m()\u001b[0m\n\u001b[1;32m      1\u001b[0m \u001b[0mprint\u001b[0m\u001b[0;34m(\u001b[0m\u001b[0mint\u001b[0m\u001b[0;34m(\u001b[0m\u001b[0;34m'45'\u001b[0m\u001b[0;34m)\u001b[0m\u001b[0;34m)\u001b[0m\u001b[0;34m\u001b[0m\u001b[0m\n\u001b[0;32m----> 2\u001b[0;31m \u001b[0mprint\u001b[0m\u001b[0;34m(\u001b[0m\u001b[0mint\u001b[0m\u001b[0;34m(\u001b[0m\u001b[0;34m'PMO'\u001b[0m\u001b[0;34m)\u001b[0m\u001b[0;34m)\u001b[0m\u001b[0;34m\u001b[0m\u001b[0m\n\u001b[0m",
      "\u001b[0;31mValueError\u001b[0m: invalid literal for int() with base 10: 'PMO'"
     ]
    }
   ],
   "source": [
    "print(int('45'))\n",
    "print(int('PMO'))"
   ]
  },
  {
   "cell_type": "code",
   "execution_count": 133,
   "metadata": {},
   "outputs": [
    {
     "ename": "ZeroDivisionError",
     "evalue": "division by zero",
     "output_type": "error",
     "traceback": [
      "\u001b[0;31m---------------------------------------------------------------------------\u001b[0m",
      "\u001b[0;31mZeroDivisionError\u001b[0m                         Traceback (most recent call last)",
      "\u001b[0;32m<ipython-input-133-af543d43b3fd>\u001b[0m in \u001b[0;36m<module>\u001b[0;34m()\u001b[0m\n\u001b[0;32m----> 1\u001b[0;31m \u001b[0mprint\u001b[0m\u001b[0;34m(\u001b[0m\u001b[0mint\u001b[0m\u001b[0;34m(\u001b[0m\u001b[0;34m'45'\u001b[0m\u001b[0;34m)\u001b[0m\u001b[0;34m/\u001b[0m\u001b[0mint\u001b[0m\u001b[0;34m(\u001b[0m\u001b[0;34m'0'\u001b[0m\u001b[0;34m)\u001b[0m\u001b[0;34m)\u001b[0m\u001b[0;34m\u001b[0m\u001b[0m\n\u001b[0m",
      "\u001b[0;31mZeroDivisionError\u001b[0m: division by zero"
     ]
    }
   ],
   "source": [
    "print(int('45')/int('0'))"
   ]
  },
  {
   "cell_type": "markdown",
   "metadata": {},
   "source": [
    "-------\n",
    "# Revisiting the three Linear Algebra Analogies\n",
    "------\n",
    "# Consider the following linear system of equations:\n",
    "## Analysis of Linear Algebra system of equations\n",
    "## $\\mathbf{A}\\mathbf{x} = \\mathbf{b}$\n",
    "## $$\\mathbf{A} = \n",
    "\\left[\\begin{eqnarray}\n",
    "&5 && 2 && 1 && 0 \\\\\n",
    "&0 && 5 && 3 && 1 \\\\\n",
    "&5 && 2 && 4 && 1 \\\\\n",
    "&5 && 0 && 0 && 7 \\\\\n",
    "\\end{eqnarray}\\right]\n",
    "$$\n",
    "$$\n",
    "\\mathbf{b}=\n",
    "\\left[\\begin{eqnarray} \n",
    "&1&\\\\\n",
    "&2&\\\\\n",
    "&3&\\\\\n",
    "&4&\\\\ \n",
    "\\end{eqnarray}\\right]\n",
    "$$"
   ]
  },
  {
   "cell_type": "code",
   "execution_count": 136,
   "metadata": {},
   "outputs": [
    {
     "name": "stdout",
     "output_type": "stream",
     "text": [
      "Enter your code to solve the system of equations\n",
      "Enter your code to test that your answer is correct\n"
     ]
    }
   ],
   "source": [
    "import numpy as np\n",
    "A = np.array([[5,2,1,0],[0,5,3,1],[5,2,4,1],[5,0,0,7]])\n",
    "b = np.array([1,2,3,4])\n",
    "print('Enter your code to solve the system of equations')\n",
    "print('Enter your code to test that your answer is correct')"
   ]
  },
  {
   "cell_type": "markdown",
   "metadata": {
    "collapsed": true
   },
   "source": [
    "-------\n",
    "# Consider the following linear system of equations:\n",
    "## Overdetermined system of Linear Algebra equations\n",
    "## $\\mathbf{A}\\mathbf{x} = \\mathbf{b}$\n",
    "## $$\\mathbf{A} = \n",
    "\\left[\\begin{eqnarray}\n",
    "&5 && 2 && 1 && 0 \\\\\n",
    "&0 && 5 && 3 && 1 \\\\\n",
    "&5 && 2 && 4 && 1 \\\\\n",
    "&5 && 0 && 0 && 7 \\\\\n",
    "&0 && 3 && 0 && 2 \\\\\n",
    "\\end{eqnarray}\\right]\n",
    "$$\n",
    "$$\n",
    "\\mathbf{b}=\n",
    "\\left[\\begin{eqnarray} \n",
    "&1&\\\\\n",
    "&2&\\\\\n",
    "&3&\\\\\n",
    "&4&\\\\ \n",
    "&9&\\\\ \n",
    "\\end{eqnarray}\\right]\n",
    "$$"
   ]
  },
  {
   "cell_type": "code",
   "execution_count": 141,
   "metadata": {},
   "outputs": [
    {
     "ename": "LinAlgError",
     "evalue": "Last 2 dimensions of the array must be square",
     "output_type": "error",
     "traceback": [
      "\u001b[0;31m---------------------------------------------------------------------------\u001b[0m",
      "\u001b[0;31mLinAlgError\u001b[0m                               Traceback (most recent call last)",
      "\u001b[0;32m<ipython-input-141-e11242174129>\u001b[0m in \u001b[0;36m<module>\u001b[0;34m()\u001b[0m\n\u001b[1;32m      2\u001b[0m \u001b[0mA\u001b[0m \u001b[0;34m=\u001b[0m \u001b[0mnp\u001b[0m\u001b[0;34m.\u001b[0m\u001b[0marray\u001b[0m\u001b[0;34m(\u001b[0m\u001b[0;34m[\u001b[0m\u001b[0;34m[\u001b[0m\u001b[0;36m5\u001b[0m\u001b[0;34m,\u001b[0m\u001b[0;36m2\u001b[0m\u001b[0;34m,\u001b[0m\u001b[0;36m1\u001b[0m\u001b[0;34m,\u001b[0m\u001b[0;36m0\u001b[0m\u001b[0;34m]\u001b[0m\u001b[0;34m,\u001b[0m\u001b[0;34m[\u001b[0m\u001b[0;36m0\u001b[0m\u001b[0;34m,\u001b[0m\u001b[0;36m5\u001b[0m\u001b[0;34m,\u001b[0m\u001b[0;36m3\u001b[0m\u001b[0;34m,\u001b[0m\u001b[0;36m1\u001b[0m\u001b[0;34m]\u001b[0m\u001b[0;34m,\u001b[0m\u001b[0;34m[\u001b[0m\u001b[0;36m5\u001b[0m\u001b[0;34m,\u001b[0m\u001b[0;36m2\u001b[0m\u001b[0;34m,\u001b[0m\u001b[0;36m4\u001b[0m\u001b[0;34m,\u001b[0m\u001b[0;36m1\u001b[0m\u001b[0;34m]\u001b[0m\u001b[0;34m,\u001b[0m\u001b[0;34m[\u001b[0m\u001b[0;36m5\u001b[0m\u001b[0;34m,\u001b[0m\u001b[0;36m0\u001b[0m\u001b[0;34m,\u001b[0m\u001b[0;36m0\u001b[0m\u001b[0;34m,\u001b[0m\u001b[0;36m7\u001b[0m\u001b[0;34m]\u001b[0m\u001b[0;34m,\u001b[0m\u001b[0;34m[\u001b[0m\u001b[0;36m0\u001b[0m\u001b[0;34m,\u001b[0m\u001b[0;36m3\u001b[0m\u001b[0;34m,\u001b[0m\u001b[0;36m0\u001b[0m\u001b[0;34m,\u001b[0m\u001b[0;36m2\u001b[0m\u001b[0;34m]\u001b[0m\u001b[0;34m]\u001b[0m\u001b[0;34m)\u001b[0m\u001b[0;34m\u001b[0m\u001b[0m\n\u001b[1;32m      3\u001b[0m \u001b[0mb\u001b[0m \u001b[0;34m=\u001b[0m \u001b[0mnp\u001b[0m\u001b[0;34m.\u001b[0m\u001b[0marray\u001b[0m\u001b[0;34m(\u001b[0m\u001b[0;34m[\u001b[0m\u001b[0;36m1\u001b[0m\u001b[0;34m,\u001b[0m\u001b[0;36m2\u001b[0m\u001b[0;34m,\u001b[0m\u001b[0;36m3\u001b[0m\u001b[0;34m,\u001b[0m\u001b[0;36m4\u001b[0m\u001b[0;34m,\u001b[0m\u001b[0;36m9\u001b[0m\u001b[0;34m]\u001b[0m\u001b[0;34m)\u001b[0m\u001b[0;34m\u001b[0m\u001b[0m\n\u001b[0;32m----> 4\u001b[0;31m \u001b[0mx\u001b[0m \u001b[0;34m=\u001b[0m \u001b[0mnp\u001b[0m\u001b[0;34m.\u001b[0m\u001b[0mlinalg\u001b[0m\u001b[0;34m.\u001b[0m\u001b[0msolve\u001b[0m\u001b[0;34m(\u001b[0m\u001b[0mA\u001b[0m\u001b[0;34m,\u001b[0m\u001b[0mb\u001b[0m\u001b[0;34m)\u001b[0m\u001b[0;34m\u001b[0m\u001b[0m\n\u001b[0m",
      "\u001b[0;32m/anaconda3/lib/python3.6/site-packages/numpy/linalg/linalg.py\u001b[0m in \u001b[0;36msolve\u001b[0;34m(a, b)\u001b[0m\n\u001b[1;32m    356\u001b[0m     \u001b[0ma\u001b[0m\u001b[0;34m,\u001b[0m \u001b[0m_\u001b[0m \u001b[0;34m=\u001b[0m \u001b[0m_makearray\u001b[0m\u001b[0;34m(\u001b[0m\u001b[0ma\u001b[0m\u001b[0;34m)\u001b[0m\u001b[0;34m\u001b[0m\u001b[0m\n\u001b[1;32m    357\u001b[0m     \u001b[0m_assertRankAtLeast2\u001b[0m\u001b[0;34m(\u001b[0m\u001b[0ma\u001b[0m\u001b[0;34m)\u001b[0m\u001b[0;34m\u001b[0m\u001b[0m\n\u001b[0;32m--> 358\u001b[0;31m     \u001b[0m_assertNdSquareness\u001b[0m\u001b[0;34m(\u001b[0m\u001b[0ma\u001b[0m\u001b[0;34m)\u001b[0m\u001b[0;34m\u001b[0m\u001b[0m\n\u001b[0m\u001b[1;32m    359\u001b[0m     \u001b[0mb\u001b[0m\u001b[0;34m,\u001b[0m \u001b[0mwrap\u001b[0m \u001b[0;34m=\u001b[0m \u001b[0m_makearray\u001b[0m\u001b[0;34m(\u001b[0m\u001b[0mb\u001b[0m\u001b[0;34m)\u001b[0m\u001b[0;34m\u001b[0m\u001b[0m\n\u001b[1;32m    360\u001b[0m     \u001b[0mt\u001b[0m\u001b[0;34m,\u001b[0m \u001b[0mresult_t\u001b[0m \u001b[0;34m=\u001b[0m \u001b[0m_commonType\u001b[0m\u001b[0;34m(\u001b[0m\u001b[0ma\u001b[0m\u001b[0;34m,\u001b[0m \u001b[0mb\u001b[0m\u001b[0;34m)\u001b[0m\u001b[0;34m\u001b[0m\u001b[0m\n",
      "\u001b[0;32m/anaconda3/lib/python3.6/site-packages/numpy/linalg/linalg.py\u001b[0m in \u001b[0;36m_assertNdSquareness\u001b[0;34m(*arrays)\u001b[0m\n\u001b[1;32m    210\u001b[0m     \u001b[0;32mfor\u001b[0m \u001b[0ma\u001b[0m \u001b[0;32min\u001b[0m \u001b[0marrays\u001b[0m\u001b[0;34m:\u001b[0m\u001b[0;34m\u001b[0m\u001b[0m\n\u001b[1;32m    211\u001b[0m         \u001b[0;32mif\u001b[0m \u001b[0mmax\u001b[0m\u001b[0;34m(\u001b[0m\u001b[0ma\u001b[0m\u001b[0;34m.\u001b[0m\u001b[0mshape\u001b[0m\u001b[0;34m[\u001b[0m\u001b[0;34m-\u001b[0m\u001b[0;36m2\u001b[0m\u001b[0;34m:\u001b[0m\u001b[0;34m]\u001b[0m\u001b[0;34m)\u001b[0m \u001b[0;34m!=\u001b[0m \u001b[0mmin\u001b[0m\u001b[0;34m(\u001b[0m\u001b[0ma\u001b[0m\u001b[0;34m.\u001b[0m\u001b[0mshape\u001b[0m\u001b[0;34m[\u001b[0m\u001b[0;34m-\u001b[0m\u001b[0;36m2\u001b[0m\u001b[0;34m:\u001b[0m\u001b[0;34m]\u001b[0m\u001b[0;34m)\u001b[0m\u001b[0;34m:\u001b[0m\u001b[0;34m\u001b[0m\u001b[0m\n\u001b[0;32m--> 212\u001b[0;31m             \u001b[0;32mraise\u001b[0m \u001b[0mLinAlgError\u001b[0m\u001b[0;34m(\u001b[0m\u001b[0;34m'Last 2 dimensions of the array must be square'\u001b[0m\u001b[0;34m)\u001b[0m\u001b[0;34m\u001b[0m\u001b[0m\n\u001b[0m\u001b[1;32m    213\u001b[0m \u001b[0;34m\u001b[0m\u001b[0m\n\u001b[1;32m    214\u001b[0m \u001b[0;32mdef\u001b[0m \u001b[0m_assertFinite\u001b[0m\u001b[0;34m(\u001b[0m\u001b[0;34m*\u001b[0m\u001b[0marrays\u001b[0m\u001b[0;34m)\u001b[0m\u001b[0;34m:\u001b[0m\u001b[0;34m\u001b[0m\u001b[0m\n",
      "\u001b[0;31mLinAlgError\u001b[0m: Last 2 dimensions of the array must be square"
     ]
    }
   ],
   "source": [
    "import numpy as np\n",
    "A = np.array([[5,2,1,0],[0,5,3,1],[5,2,4,1],[5,0,0,7],[0,3,0,2]])\n",
    "b = np.array([1,2,3,4,9])\n",
    "x = np.linalg.solve(A,b)"
   ]
  },
  {
   "cell_type": "markdown",
   "metadata": {},
   "source": [
    "## Overdetermined system of Linear Algebra equations\n",
    "## $\\mathbf{A}\\mathbf{x} = \\mathbf{b}$\n",
    "## We cannot solve the system as no solutions exist\n",
    "## Not all approximate solutions are equivalent i.e. \n",
    "## choosing $\\mathbf{x}$ such that $\\mathbf{A}\\mathbf{x} - \\mathbf{b}\\approx \\mathbf{0}$ is not a bad idea.\n",
    "## For example if the $L2-$norm of the difference is as small as possible i.e. Find $\\mathbf{x}$ such that $f(\\mathbf{x}) = \\|\\mathbf{A}\\mathbf{x} - \\mathbf{b}\\|_2$ is a minimum, or formally\n",
    "## $$\n",
    "\\min_{\\mathbf{x}} f(\\mathbf{x})\\\\\n",
    "\\min_{\\mathbf{x}} \\|\\mathbf{A}\\mathbf{x} - \\mathbf{b}\\|_2\n",
    "$$\n",
    "## Two approaches to solve this\n",
    "## 1. Direct minimization of the error using scipy.optimize\n",
    "## 2. Optimality criterion i.e. compute gradient of the objective function and set it equal to $\\mathbf{0}$\n",
    "-----\n",
    "# 1. Direct minimization of the error using scipy.optimize\n",
    "## Step 1: Formulate a function $f(\\mathbf{x})$\n",
    "## Step 2: Choose initial guess for solution $\\mathbf{x}_0$\n",
    "## Step 3: Find the minimum to the problem $\\mathbf{x}_0$"
   ]
  },
  {
   "cell_type": "code",
   "execution_count": 146,
   "metadata": {},
   "outputs": [
    {
     "name": "stdout",
     "output_type": "stream",
     "text": [
      "      fun: 5.548765995358565\n",
      " hess_inv: array([[ 0.21213718,  0.09724088, -0.26310847, -0.14083711],\n",
      "       [ 0.09724088,  0.37305717, -0.421634  , -0.10237144],\n",
      "       [-0.26310847, -0.421634  ,  0.83333885,  0.174866  ],\n",
      "       [-0.14083711, -0.10237144,  0.174866  ,  0.20960889]])\n",
      "      jac: array([ -4.17232513e-07,  -8.34465027e-07,  -3.57627869e-07,\n",
      "        -6.55651093e-07])\n",
      "  message: 'Optimization terminated successfully.'\n",
      "     nfev: 96\n",
      "      nit: 13\n",
      "     njev: 16\n",
      "   status: 0\n",
      "  success: True\n",
      "        x: array([ 0.10776081,  1.28753167, -0.78435108,  0.64440199])\n",
      "<class 'scipy.optimize.optimize.OptimizeResult'>\n"
     ]
    }
   ],
   "source": [
    "import scipy.optimize as opt\n",
    "import numpy as np\n",
    "A = np.array([[5,2,1,0],[0,5,3,1],[5,2,4,1],[5,0,0,7],[0,3,0,2]])\n",
    "b = np.array([1,2,3,4,9])\n",
    "\n",
    "def MyObjective(x):\n",
    "    return np.linalg.norm(np.dot(A,x)-b)\n",
    "\n",
    "x0 = np.array([1,2,3,4])\n",
    "result = opt.minimize(MyObjective,x0)\n",
    "print(result)\n",
    "print(type(result))"
   ]
  },
  {
   "cell_type": "markdown",
   "metadata": {},
   "source": [
    "## The result is of class 'scipy.optimize.optimize.OptimizeResult'\n",
    "## Specifically, it is a dictionary\n",
    "## A dictionary is a way to keep different objects togehther by giving each object a label instead of an index number\n",
    "## result['x'] would give obtained the solution"
   ]
  },
  {
   "cell_type": "code",
   "execution_count": 148,
   "metadata": {},
   "outputs": [
    {
     "name": "stdout",
     "output_type": "stream",
     "text": [
      "[ 0.10776081  1.28753167 -0.78435108  0.64440199]\n",
      "<class 'numpy.ndarray'>\n"
     ]
    }
   ],
   "source": [
    "print(result['x'])\n",
    "print(type(result['x']))"
   ]
  },
  {
   "attachments": {},
   "cell_type": "markdown",
   "metadata": {},
   "source": [
    "# 2. Optimality criterion\n",
    "## Step 1: Compute gradient of $f(\\mathbf{x})$\n",
    "## Step 2: Solve for the gradient equal to $0$\n",
    "## Rewrite into equivalent objective i.e. $\\|\\mathbf{A}\\mathbf{x} - \\mathbf{b}\\|_2 = \\left((\\mathbf{A}\\mathbf{x} - \\mathbf{b})^\\textrm{T}(\\mathbf{A}\\mathbf{x} - \\mathbf{b})\\right)^{0.5}$ is equivalent in terms of optimization solution than $\\tilde{f}(\\mathbf{x})=(f(\\mathbf{x}))^2$\n",
    "## $\\tilde{f}(\\mathbf{x}) = \\left((\\mathbf{A}\\mathbf{x} - \\mathbf{b})^\\textrm{T}(\\mathbf{A}\\mathbf{x} - \\mathbf{b})\\right) = \\mathbf{x}^\\textrm{T}\\mathbf{A}^\\textrm{T}\\mathbf{A}\\mathbf{x} - 2\\mathbf{x}^\\textrm{T}\\mathbf{A}^\\textrm{T}\\mathbf{b} + \\mathbf{b}^\\textrm{T}\\mathbf{b}$\n",
    "## Step 1: $\\nabla \\tilde{f}(\\mathbf{x}) = 2\\mathbf{A}^\\textrm{T}\\mathbf{A}\\mathbf{x} - 2\\mathbf{A}^\\textrm{T}\\mathbf{b}$\n",
    "## Step 2: Solve for $\\nabla \\tilde{f}(\\mathbf{x}) = 2\\mathbf{A}^\\textrm{T}\\mathbf{A}\\mathbf{x} - 2\\mathbf{A}^\\textrm{T}\\mathbf{b} = \\mathbf{0}$ i.e.\n",
    "## Solve for the linear system\n",
    "## $$\n",
    "\\mathbf{A}^\\textrm{T}\\mathbf{A}\\mathbf{x} = \\mathbf{A}^\\textrm{T}\\mathbf{b}\n",
    "$$"
   ]
  },
  {
   "cell_type": "code",
   "execution_count": 151,
   "metadata": {},
   "outputs": [
    {
     "name": "stdout",
     "output_type": "stream",
     "text": [
      "[ 0.10776081  1.28753181 -0.78435115  0.64440204]\n",
      "Compare solution to answer from direct minimization\n"
     ]
    }
   ],
   "source": [
    "import numpy as np\n",
    "A = np.array([[5,2,1,0],[0,5,3,1],[5,2,4,1],[5,0,0,7],[0,3,0,2]])\n",
    "b = np.array([1,2,3,4,9])\n",
    "\n",
    "ATA = np.dot(A.transpose(),A)\n",
    "ATb = np.dot(A.transpose(),b)\n",
    "x = np.linalg.solve(ATA,ATb)\n",
    "print(x)\n",
    "print('Compare solution to answer from direct minimization')"
   ]
  },
  {
   "cell_type": "markdown",
   "metadata": {},
   "source": [
    "## Underdetermined system of Linear Algebra equations\n",
    "## $\\mathbf{A}\\mathbf{x} = \\mathbf{b}$\n",
    "## $$\\mathbf{A} = \n",
    "\\left[\\begin{eqnarray}\n",
    "&5 && 2 && 1 && 0 \\\\\n",
    "&0 && 5 && 3 && 1 \\\\\n",
    "&5 && 2 && 4 && 1 \\\\\n",
    "\\end{eqnarray}\\right]\n",
    "$$\n",
    "$$\n",
    "\\mathbf{b}=\n",
    "\\left[\\begin{eqnarray} \n",
    "&1&\\\\\n",
    "&2&\\\\\n",
    "&3&\\\\\n",
    "\\end{eqnarray}\\right]\n",
    "$$"
   ]
  },
  {
   "cell_type": "code",
   "execution_count": 152,
   "metadata": {},
   "outputs": [
    {
     "ename": "LinAlgError",
     "evalue": "Last 2 dimensions of the array must be square",
     "output_type": "error",
     "traceback": [
      "\u001b[0;31m---------------------------------------------------------------------------\u001b[0m",
      "\u001b[0;31mLinAlgError\u001b[0m                               Traceback (most recent call last)",
      "\u001b[0;32m<ipython-input-152-8bba1613a790>\u001b[0m in \u001b[0;36m<module>\u001b[0;34m()\u001b[0m\n\u001b[1;32m      2\u001b[0m \u001b[0mA\u001b[0m \u001b[0;34m=\u001b[0m \u001b[0mnp\u001b[0m\u001b[0;34m.\u001b[0m\u001b[0marray\u001b[0m\u001b[0;34m(\u001b[0m\u001b[0;34m[\u001b[0m\u001b[0;34m[\u001b[0m\u001b[0;36m5\u001b[0m\u001b[0;34m,\u001b[0m\u001b[0;36m2\u001b[0m\u001b[0;34m,\u001b[0m\u001b[0;36m1\u001b[0m\u001b[0;34m,\u001b[0m\u001b[0;36m0\u001b[0m\u001b[0;34m]\u001b[0m\u001b[0;34m,\u001b[0m\u001b[0;34m[\u001b[0m\u001b[0;36m0\u001b[0m\u001b[0;34m,\u001b[0m\u001b[0;36m5\u001b[0m\u001b[0;34m,\u001b[0m\u001b[0;36m3\u001b[0m\u001b[0;34m,\u001b[0m\u001b[0;36m1\u001b[0m\u001b[0;34m]\u001b[0m\u001b[0;34m,\u001b[0m\u001b[0;34m[\u001b[0m\u001b[0;36m5\u001b[0m\u001b[0;34m,\u001b[0m\u001b[0;36m2\u001b[0m\u001b[0;34m,\u001b[0m\u001b[0;36m4\u001b[0m\u001b[0;34m,\u001b[0m\u001b[0;36m1\u001b[0m\u001b[0;34m]\u001b[0m\u001b[0;34m]\u001b[0m\u001b[0;34m)\u001b[0m\u001b[0;34m\u001b[0m\u001b[0m\n\u001b[1;32m      3\u001b[0m \u001b[0mb\u001b[0m \u001b[0;34m=\u001b[0m \u001b[0mnp\u001b[0m\u001b[0;34m.\u001b[0m\u001b[0marray\u001b[0m\u001b[0;34m(\u001b[0m\u001b[0;34m[\u001b[0m\u001b[0;36m1\u001b[0m\u001b[0;34m,\u001b[0m\u001b[0;36m2\u001b[0m\u001b[0;34m,\u001b[0m\u001b[0;36m3\u001b[0m\u001b[0;34m]\u001b[0m\u001b[0;34m)\u001b[0m\u001b[0;34m\u001b[0m\u001b[0m\n\u001b[0;32m----> 4\u001b[0;31m \u001b[0mx\u001b[0m \u001b[0;34m=\u001b[0m \u001b[0mnp\u001b[0m\u001b[0;34m.\u001b[0m\u001b[0mlinalg\u001b[0m\u001b[0;34m.\u001b[0m\u001b[0msolve\u001b[0m\u001b[0;34m(\u001b[0m\u001b[0mA\u001b[0m\u001b[0;34m,\u001b[0m\u001b[0mb\u001b[0m\u001b[0;34m)\u001b[0m\u001b[0;34m\u001b[0m\u001b[0m\n\u001b[0m",
      "\u001b[0;32m/anaconda3/lib/python3.6/site-packages/numpy/linalg/linalg.py\u001b[0m in \u001b[0;36msolve\u001b[0;34m(a, b)\u001b[0m\n\u001b[1;32m    356\u001b[0m     \u001b[0ma\u001b[0m\u001b[0;34m,\u001b[0m \u001b[0m_\u001b[0m \u001b[0;34m=\u001b[0m \u001b[0m_makearray\u001b[0m\u001b[0;34m(\u001b[0m\u001b[0ma\u001b[0m\u001b[0;34m)\u001b[0m\u001b[0;34m\u001b[0m\u001b[0m\n\u001b[1;32m    357\u001b[0m     \u001b[0m_assertRankAtLeast2\u001b[0m\u001b[0;34m(\u001b[0m\u001b[0ma\u001b[0m\u001b[0;34m)\u001b[0m\u001b[0;34m\u001b[0m\u001b[0m\n\u001b[0;32m--> 358\u001b[0;31m     \u001b[0m_assertNdSquareness\u001b[0m\u001b[0;34m(\u001b[0m\u001b[0ma\u001b[0m\u001b[0;34m)\u001b[0m\u001b[0;34m\u001b[0m\u001b[0m\n\u001b[0m\u001b[1;32m    359\u001b[0m     \u001b[0mb\u001b[0m\u001b[0;34m,\u001b[0m \u001b[0mwrap\u001b[0m \u001b[0;34m=\u001b[0m \u001b[0m_makearray\u001b[0m\u001b[0;34m(\u001b[0m\u001b[0mb\u001b[0m\u001b[0;34m)\u001b[0m\u001b[0;34m\u001b[0m\u001b[0m\n\u001b[1;32m    360\u001b[0m     \u001b[0mt\u001b[0m\u001b[0;34m,\u001b[0m \u001b[0mresult_t\u001b[0m \u001b[0;34m=\u001b[0m \u001b[0m_commonType\u001b[0m\u001b[0;34m(\u001b[0m\u001b[0ma\u001b[0m\u001b[0;34m,\u001b[0m \u001b[0mb\u001b[0m\u001b[0;34m)\u001b[0m\u001b[0;34m\u001b[0m\u001b[0m\n",
      "\u001b[0;32m/anaconda3/lib/python3.6/site-packages/numpy/linalg/linalg.py\u001b[0m in \u001b[0;36m_assertNdSquareness\u001b[0;34m(*arrays)\u001b[0m\n\u001b[1;32m    210\u001b[0m     \u001b[0;32mfor\u001b[0m \u001b[0ma\u001b[0m \u001b[0;32min\u001b[0m \u001b[0marrays\u001b[0m\u001b[0;34m:\u001b[0m\u001b[0;34m\u001b[0m\u001b[0m\n\u001b[1;32m    211\u001b[0m         \u001b[0;32mif\u001b[0m \u001b[0mmax\u001b[0m\u001b[0;34m(\u001b[0m\u001b[0ma\u001b[0m\u001b[0;34m.\u001b[0m\u001b[0mshape\u001b[0m\u001b[0;34m[\u001b[0m\u001b[0;34m-\u001b[0m\u001b[0;36m2\u001b[0m\u001b[0;34m:\u001b[0m\u001b[0;34m]\u001b[0m\u001b[0;34m)\u001b[0m \u001b[0;34m!=\u001b[0m \u001b[0mmin\u001b[0m\u001b[0;34m(\u001b[0m\u001b[0ma\u001b[0m\u001b[0;34m.\u001b[0m\u001b[0mshape\u001b[0m\u001b[0;34m[\u001b[0m\u001b[0;34m-\u001b[0m\u001b[0;36m2\u001b[0m\u001b[0;34m:\u001b[0m\u001b[0;34m]\u001b[0m\u001b[0;34m)\u001b[0m\u001b[0;34m:\u001b[0m\u001b[0;34m\u001b[0m\u001b[0m\n\u001b[0;32m--> 212\u001b[0;31m             \u001b[0;32mraise\u001b[0m \u001b[0mLinAlgError\u001b[0m\u001b[0;34m(\u001b[0m\u001b[0;34m'Last 2 dimensions of the array must be square'\u001b[0m\u001b[0;34m)\u001b[0m\u001b[0;34m\u001b[0m\u001b[0m\n\u001b[0m\u001b[1;32m    213\u001b[0m \u001b[0;34m\u001b[0m\u001b[0m\n\u001b[1;32m    214\u001b[0m \u001b[0;32mdef\u001b[0m \u001b[0m_assertFinite\u001b[0m\u001b[0;34m(\u001b[0m\u001b[0;34m*\u001b[0m\u001b[0marrays\u001b[0m\u001b[0;34m)\u001b[0m\u001b[0;34m:\u001b[0m\u001b[0;34m\u001b[0m\u001b[0m\n",
      "\u001b[0;31mLinAlgError\u001b[0m: Last 2 dimensions of the array must be square"
     ]
    }
   ],
   "source": [
    "import numpy as np\n",
    "A = np.array([[5,2,1,0],[0,5,3,1],[5,2,4,1]])\n",
    "b = np.array([1,2,3])\n",
    "x = np.linalg.solve(A,b)\n",
    "\n",
    "np.linalg.n"
   ]
  },
  {
   "cell_type": "markdown",
   "metadata": {},
   "source": [
    "## We cannot easily solve the system as an infinite number of solutions exist\n",
    "## Additional constraints or criteria can reduce the problem to a unique solution\n",
    "## Many constraints or criteria are possible, this is called regularizing the problem\n",
    "## Let's choose the answer such that the $\\mathbf{x}$ has the shortest length i.e.\n",
    "## Shortest length of $\\mathbf{x}$ can be expressed as $\\min_{\\mathbf{x}}\\|\\mathbf{x}\\|_2^2$ \n",
    "## Find $\\mathbf{x}$ such that $f(\\mathbf{x}) = \\|\\mathbf{x}\\|_2^2$ is a minimum subject to\n",
    "## $\\mathbf{A}\\mathbf{x} = \\mathbf{b}$, or formally\n",
    "## $$\n",
    "\\min_{\\mathbf{x}} \\|\\mathbf{x}\\|_2^2\\\\\n",
    "\\textrm{s.t.}\\\\\n",
    "\\mathbf{A}\\mathbf{x} = \\mathbf{b}\n",
    "$$\n",
    "## Two approaches to solve this\n",
    "## 1. Direct minimization of the error using scipy.optimize\n",
    "## 2. Optimality criterion i.e. compute gradient of the objective function and set it equal to $\\mathbf{0}$\n",
    "-----\n",
    "# 1. Direct minimization of the error using scipy.optimize\n",
    "## Step 1: Formulate a function $f(\\mathbf{x})$ and constraint function $g(\\mathbf{x})$\n",
    "## Step 2: Choose initial guess for solution $\\mathbf{x}_0$\n",
    "## Step 3: Find the minimum to the problem $\\mathbf{x}_0$"
   ]
  },
  {
   "cell_type": "code",
   "execution_count": 162,
   "metadata": {},
   "outputs": [
    {
     "name": "stdout",
     "output_type": "stream",
     "text": [
      "     fun: 0.6374750991205776\n",
      "     jac: array([  1.24995388e-01,   7.45058060e-09,   9.43711847e-01,\n",
      "         3.06241907e-01])\n",
      " message: 'Optimization terminated successfully.'\n",
      "    nfev: 32\n",
      "     nit: 5\n",
      "    njev: 5\n",
      "  status: 0\n",
      " success: True\n",
      "       x: array([  7.96814390e-02,  -1.55381166e-18,   6.01592805e-01,\n",
      "         1.95221585e-01])\n",
      "<class 'scipy.optimize.optimize.OptimizeResult'>\n"
     ]
    }
   ],
   "source": [
    "import scipy.optimize as opt\n",
    "import numpy as np\n",
    "A = np.array([[5,2,1,0],[0,5,3,1],[5,2,4,1]])\n",
    "b = np.array([1,2,3])\n",
    "\n",
    "def MyObjective(x):\n",
    "    return np.linalg.norm(x)\n",
    "\n",
    "def MyConstraint(x):\n",
    "    return np.dot(A,x)-b\n",
    "\n",
    "\n",
    "x0 = np.array([1,2,3,4])\n",
    "result = opt.minimize(MyObjective,x0,constraints=[{'type':'eq','fun':MyConstraint}])\n",
    "print(result)\n",
    "print(type(result))"
   ]
  },
  {
   "cell_type": "code",
   "execution_count": 165,
   "metadata": {},
   "outputs": [
    {
     "name": "stdout",
     "output_type": "stream",
     "text": [
      "Check constraint violation [  2.22044605e-16   0.00000000e+00   0.00000000e+00]\n"
     ]
    }
   ],
   "source": [
    "print('Check constraint violation {}'.format(MyConstraint(result['x'])))"
   ]
  },
  {
   "cell_type": "markdown",
   "metadata": {},
   "source": [
    "# 2. Optimality criterion\n",
    "## Step 1: Introduce a new variable per constraint\n",
    "## Step 2: Construct the Lagrangian (we will cover the ideas behind it a bit later)\n",
    "## Step 3: Compute the gradient of the Lagrangian\n",
    "## Step 4: Solve for the gradient equal to $\\mathbf{0}$\n",
    "-------\n",
    "## The Lagrangian is $\\mathbf{x}^\\textrm{T}\\mathbf{x} + \\left(\\mathbf{b}^\\textrm{T} - \\mathbf{x}^\\textrm{T}\\mathbf{A}^\\textrm{T} \\right)\\mathbf{\\lambda}^\\textrm{T}$\n",
    "## The gradient w.r.t. $\\mathbf{x}$ and $\\mathbf{\\lambda}$ is\n",
    "## $$\n",
    "\\nabla L(\\mathbf{x},\\mathbf{\\lambda}) = \n",
    "\\left[\n",
    "\\begin{eqnarray} \n",
    "2\\mathbf{x} - \\mathbf{A}^\\textrm{T}\\mathbf{\\lambda}^\\textrm{T} \\\\\n",
    "\\mathbf{b} - \\mathbf{A}\\mathbf{x}\\\\\n",
    "\\end{eqnarray}\n",
    "\\right]$$\n",
    "## Set gradient equal to $\\mathbf{0}$\n",
    "## $$\n",
    "\\left[\n",
    "\\begin{eqnarray} \n",
    "2\\mathbf{x} - \\mathbf{A}^\\textrm{T}\\mathbf{\\lambda}^\\textrm{T} = \\mathbf{0} \\\\\n",
    "\\mathbf{A}\\mathbf{x} - \\mathbf{b} = \\mathbf{0}\n",
    "\\end{eqnarray}\n",
    "\\right]$$\n",
    "## $$\n",
    "\\left[\n",
    "\\begin{eqnarray} \n",
    "\\mathbf{x} = \\frac{1}{2}\\mathbf{A}^\\textrm{T}\\mathbf{\\lambda}^\\textrm{T}\\\\\n",
    "\\mathbf{A}\\mathbf{x} = \\mathbf{b}\n",
    "\\end{eqnarray}\n",
    "\\right]$$\n",
    "## $$\n",
    "\\frac{1}{2}\\mathbf{A}\\mathbf{A}^\\textrm{T}\\mathbf{\\lambda}^\\textrm{T} = \\mathbf{b}\n",
    "$$\n",
    "## Solving for $\\mathbf{\\lambda}^\\textrm{T}$\n",
    "##  $$\n",
    "\\mathbf{\\lambda}^\\textrm{T} = 2\\left(\\mathbf{A}\\mathbf{A}^\\textrm{T}\\right)^{-1}\\mathbf{b}\n",
    "$$\n",
    "## with substitution back into $\\mathbf{x} = \\frac{1}{2}\\mathbf{A}^\\textrm{T}\\mathbf{\\lambda}^\\textrm{T}$ which gives the solution\n",
    "## $$\n",
    "\\mathbf{x} = \\mathbf{A}^\\textrm{T}\\left(\\mathbf{A}\\mathbf{A}^\\textrm{T}\\right)^{-1}\\mathbf{b}\n",
    "$$\n",
    "------------\n",
    "## Hence, we first solve for the linear system\n",
    "## $$\n",
    "\\frac{1}{2}\\mathbf{A}\\mathbf{A}^\\textrm{T}\\mathbf{\\lambda}^\\textrm{T} = \\mathbf{b}\n",
    "$$\n",
    "## and then compute\n",
    "## $$\n",
    "\\mathbf{x} = \\frac{1}{2}\\mathbf{A}^\\textrm{T}\\mathbf{\\lambda}^\\textrm{T}\n",
    "$$"
   ]
  },
  {
   "cell_type": "code",
   "execution_count": 171,
   "metadata": {},
   "outputs": [
    {
     "name": "stdout",
     "output_type": "stream",
     "text": [
      "[  7.96812749e-02   5.55111512e-17   6.01593625e-01   1.95219124e-01]\n",
      "Compare solution to answer from direct minimization\n",
      "Test solution: [ -3.33066907e-16   0.00000000e+00  -4.44089210e-16]\n"
     ]
    }
   ],
   "source": [
    "import numpy as np\n",
    "A = np.array([[5,2,1,0],[0,5,3,1],[5,2,4,1]])\n",
    "b = np.array([1,2,3])\n",
    "\n",
    "AAT = np.dot(A,A.transpose())\n",
    "LT = np.linalg.solve(0.5*AAT,b)\n",
    "x = np.dot(0.5*A.transpose(),LT)\n",
    "print(x)\n",
    "print('Compare solution to answer from direct minimization')\n",
    "print('Test solution: {}'.format(np.dot(A,x)-b))"
   ]
  },
  {
   "cell_type": "markdown",
   "metadata": {},
   "source": [
    "-------\n",
    "# We have already optimized our first problems but still don't quite know what optimization is all about.\n",
    "# Tomorrow we explore what optimization is, and fully understand why we made the choices we made in solving the underdetermined and overdetermined system of equations\n",
    "------"
   ]
  },
  {
   "cell_type": "markdown",
   "metadata": {},
   "source": [
    "# Additional Problems\n",
    "## Consider the matrix $$\\mathbf{A} = \n",
    "\\left[\\begin{eqnarray}\n",
    "&5.1 && 2 && 1 && 0 && 2\\\\\n",
    "&0 && 5 && 3 && 1 && 3\\\\\n",
    "&5 && 2 && 4 && 1 && 4\\\\\n",
    "&0 && 4 && 3 && 0 && 5 \\\\\n",
    "&5 && 2 && 0 && 2 && 6\\\\\n",
    "\\end{eqnarray}\\right]\n",
    "$$\n",
    "## 1. Compute the symmetric part $\\mathbf{A}_s = \\frac{1}{2}\\left(\\mathbf{A}+\\mathbf{A}^\\textrm{T}\\right)$\n",
    "## 2. Compute the skew-symmetric part $\\mathbf{A}_{ss} = \\frac{1}{2}\\left(\\mathbf{A}-\\mathbf{A}^\\textrm{T}\\right)$\n",
    "## 3. Confirm that $\\mathbf{A} = \\mathbf{A}_s + \\mathbf{A}_{ss}$\n",
    "## 4. Given a real symmetric matrix $\\mathbf{A}$ then $\\mathbf{x}$ that satisfies $\\max_{\\mathbf{x}} \\mathbf{x}^\\textrm{T} \\mathbf{A}\\mathbf{x},\\;\\;s.t.\\;\\|\\mathbf{x}\\| = 1$ is the eigenvector associated with the largest eigenvalue. Solve for the largest eigenvalue.\n",
    "## 5. Compare your solution to the solution of np.linalg.eig\n",
    "## 6. After solving for 1. modify the optimization problem to solve for the second largest eigenvalue and eigenvector."
   ]
  },
  {
   "cell_type": "code",
   "execution_count": null,
   "metadata": {
    "collapsed": true
   },
   "outputs": [],
   "source": []
  }
 ],
 "metadata": {
  "kernelspec": {
   "display_name": "Python 3",
   "language": "python",
   "name": "python3"
  },
  "language_info": {
   "codemirror_mode": {
    "name": "ipython",
    "version": 3
   },
   "file_extension": ".py",
   "mimetype": "text/x-python",
   "name": "python",
   "nbconvert_exporter": "python",
   "pygments_lexer": "ipython3",
   "version": "3.6.3"
  }
 },
 "nbformat": 4,
 "nbformat_minor": 2
}
